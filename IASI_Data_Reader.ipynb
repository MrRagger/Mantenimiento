{
  "nbformat": 4,
  "nbformat_minor": 0,
  "metadata": {
    "colab": {
      "provenance": [],
      "mount_file_id": "1UKZqRvYWG24CpJYyS593V8w0Bhl8Qw6t",
      "authorship_tag": "ABX9TyNy45tLFm7HQwykP8eK2HPt",
      "include_colab_link": true
    },
    "kernelspec": {
      "name": "python3",
      "display_name": "Python 3"
    },
    "language_info": {
      "name": "python"
    }
  },
  "cells": [
    {
      "cell_type": "markdown",
      "metadata": {
        "id": "view-in-github",
        "colab_type": "text"
      },
      "source": [
        "<a href=\"https://colab.research.google.com/github/MrRagger/Mantenimiento/blob/master/IASI_Data_Reader.ipynb\" target=\"_parent\"><img src=\"https://colab.research.google.com/assets/colab-badge.svg\" alt=\"Open In Colab\"/></a>"
      ]
    },
    {
      "cell_type": "code",
      "execution_count": null,
      "metadata": {
        "colab": {
          "base_uri": "https://localhost:8080/",
          "height": 56
        },
        "collapsed": true,
        "id": "Fn2uS6rgLpct",
        "outputId": "c8c1eb84-d57c-48a4-8faa-cbcf7cf37f22"
      },
      "outputs": [
        {
          "output_type": "display_data",
          "data": {
            "text/plain": [
              "<IPython.core.display.HTML object>"
            ],
            "text/html": [
              "\n",
              "     <input type=\"file\" id=\"files-10a2be40-6162-4776-b08a-7da1ca421282\" name=\"files[]\" multiple disabled\n",
              "        style=\"border:none\" />\n",
              "     <output id=\"result-10a2be40-6162-4776-b08a-7da1ca421282\">\n",
              "      Upload widget is only available when the cell has been executed in the\n",
              "      current browser session. Please rerun this cell to enable.\n",
              "      </output>\n",
              "      <script>// Copyright 2017 Google LLC\n",
              "//\n",
              "// Licensed under the Apache License, Version 2.0 (the \"License\");\n",
              "// you may not use this file except in compliance with the License.\n",
              "// You may obtain a copy of the License at\n",
              "//\n",
              "//      http://www.apache.org/licenses/LICENSE-2.0\n",
              "//\n",
              "// Unless required by applicable law or agreed to in writing, software\n",
              "// distributed under the License is distributed on an \"AS IS\" BASIS,\n",
              "// WITHOUT WARRANTIES OR CONDITIONS OF ANY KIND, either express or implied.\n",
              "// See the License for the specific language governing permissions and\n",
              "// limitations under the License.\n",
              "\n",
              "/**\n",
              " * @fileoverview Helpers for google.colab Python module.\n",
              " */\n",
              "(function(scope) {\n",
              "function span(text, styleAttributes = {}) {\n",
              "  const element = document.createElement('span');\n",
              "  element.textContent = text;\n",
              "  for (const key of Object.keys(styleAttributes)) {\n",
              "    element.style[key] = styleAttributes[key];\n",
              "  }\n",
              "  return element;\n",
              "}\n",
              "\n",
              "// Max number of bytes which will be uploaded at a time.\n",
              "const MAX_PAYLOAD_SIZE = 100 * 1024;\n",
              "\n",
              "function _uploadFiles(inputId, outputId) {\n",
              "  const steps = uploadFilesStep(inputId, outputId);\n",
              "  const outputElement = document.getElementById(outputId);\n",
              "  // Cache steps on the outputElement to make it available for the next call\n",
              "  // to uploadFilesContinue from Python.\n",
              "  outputElement.steps = steps;\n",
              "\n",
              "  return _uploadFilesContinue(outputId);\n",
              "}\n",
              "\n",
              "// This is roughly an async generator (not supported in the browser yet),\n",
              "// where there are multiple asynchronous steps and the Python side is going\n",
              "// to poll for completion of each step.\n",
              "// This uses a Promise to block the python side on completion of each step,\n",
              "// then passes the result of the previous step as the input to the next step.\n",
              "function _uploadFilesContinue(outputId) {\n",
              "  const outputElement = document.getElementById(outputId);\n",
              "  const steps = outputElement.steps;\n",
              "\n",
              "  const next = steps.next(outputElement.lastPromiseValue);\n",
              "  return Promise.resolve(next.value.promise).then((value) => {\n",
              "    // Cache the last promise value to make it available to the next\n",
              "    // step of the generator.\n",
              "    outputElement.lastPromiseValue = value;\n",
              "    return next.value.response;\n",
              "  });\n",
              "}\n",
              "\n",
              "/**\n",
              " * Generator function which is called between each async step of the upload\n",
              " * process.\n",
              " * @param {string} inputId Element ID of the input file picker element.\n",
              " * @param {string} outputId Element ID of the output display.\n",
              " * @return {!Iterable<!Object>} Iterable of next steps.\n",
              " */\n",
              "function* uploadFilesStep(inputId, outputId) {\n",
              "  const inputElement = document.getElementById(inputId);\n",
              "  inputElement.disabled = false;\n",
              "\n",
              "  const outputElement = document.getElementById(outputId);\n",
              "  outputElement.innerHTML = '';\n",
              "\n",
              "  const pickedPromise = new Promise((resolve) => {\n",
              "    inputElement.addEventListener('change', (e) => {\n",
              "      resolve(e.target.files);\n",
              "    });\n",
              "  });\n",
              "\n",
              "  const cancel = document.createElement('button');\n",
              "  inputElement.parentElement.appendChild(cancel);\n",
              "  cancel.textContent = 'Cancel upload';\n",
              "  const cancelPromise = new Promise((resolve) => {\n",
              "    cancel.onclick = () => {\n",
              "      resolve(null);\n",
              "    };\n",
              "  });\n",
              "\n",
              "  // Wait for the user to pick the files.\n",
              "  const files = yield {\n",
              "    promise: Promise.race([pickedPromise, cancelPromise]),\n",
              "    response: {\n",
              "      action: 'starting',\n",
              "    }\n",
              "  };\n",
              "\n",
              "  cancel.remove();\n",
              "\n",
              "  // Disable the input element since further picks are not allowed.\n",
              "  inputElement.disabled = true;\n",
              "\n",
              "  if (!files) {\n",
              "    return {\n",
              "      response: {\n",
              "        action: 'complete',\n",
              "      }\n",
              "    };\n",
              "  }\n",
              "\n",
              "  for (const file of files) {\n",
              "    const li = document.createElement('li');\n",
              "    li.append(span(file.name, {fontWeight: 'bold'}));\n",
              "    li.append(span(\n",
              "        `(${file.type || 'n/a'}) - ${file.size} bytes, ` +\n",
              "        `last modified: ${\n",
              "            file.lastModifiedDate ? file.lastModifiedDate.toLocaleDateString() :\n",
              "                                    'n/a'} - `));\n",
              "    const percent = span('0% done');\n",
              "    li.appendChild(percent);\n",
              "\n",
              "    outputElement.appendChild(li);\n",
              "\n",
              "    const fileDataPromise = new Promise((resolve) => {\n",
              "      const reader = new FileReader();\n",
              "      reader.onload = (e) => {\n",
              "        resolve(e.target.result);\n",
              "      };\n",
              "      reader.readAsArrayBuffer(file);\n",
              "    });\n",
              "    // Wait for the data to be ready.\n",
              "    let fileData = yield {\n",
              "      promise: fileDataPromise,\n",
              "      response: {\n",
              "        action: 'continue',\n",
              "      }\n",
              "    };\n",
              "\n",
              "    // Use a chunked sending to avoid message size limits. See b/62115660.\n",
              "    let position = 0;\n",
              "    do {\n",
              "      const length = Math.min(fileData.byteLength - position, MAX_PAYLOAD_SIZE);\n",
              "      const chunk = new Uint8Array(fileData, position, length);\n",
              "      position += length;\n",
              "\n",
              "      const base64 = btoa(String.fromCharCode.apply(null, chunk));\n",
              "      yield {\n",
              "        response: {\n",
              "          action: 'append',\n",
              "          file: file.name,\n",
              "          data: base64,\n",
              "        },\n",
              "      };\n",
              "\n",
              "      let percentDone = fileData.byteLength === 0 ?\n",
              "          100 :\n",
              "          Math.round((position / fileData.byteLength) * 100);\n",
              "      percent.textContent = `${percentDone}% done`;\n",
              "\n",
              "    } while (position < fileData.byteLength);\n",
              "  }\n",
              "\n",
              "  // All done.\n",
              "  yield {\n",
              "    response: {\n",
              "      action: 'complete',\n",
              "    }\n",
              "  };\n",
              "}\n",
              "\n",
              "scope.google = scope.google || {};\n",
              "scope.google.colab = scope.google.colab || {};\n",
              "scope.google.colab._files = {\n",
              "  _uploadFiles,\n",
              "  _uploadFilesContinue,\n",
              "};\n",
              "})(self);\n",
              "</script> "
            ]
          },
          "metadata": {}
        }
      ],
      "source": [
        "# 1. Subida de scripts .py y .nat\n",
        "# Solo hace falta la primera vez\n",
        "from google.colab import files\n",
        "\n",
        "uploaded = files.upload()"
      ]
    },
    {
      "cell_type": "code",
      "source": [
        "# 2. Verificar archivos subidos\n",
        "import os\n",
        "print(\"Archivos en el entorno:\", os.listdir())\n"
      ],
      "metadata": {
        "colab": {
          "base_uri": "https://localhost:8080/"
        },
        "id": "Hsq3w7guNDc9",
        "outputId": "8f330eb1-0e17-41c1-c816-a237280fceed"
      },
      "execution_count": null,
      "outputs": [
        {
          "output_type": "stream",
          "name": "stdout",
          "text": [
            "Archivos en el entorno: ['.config', 'IASI_file.nat', '__pycache__', 'PDU_reader2.py', 'IASI_APPR_function.py', 'Reader_example_joselu.py', '.ipynb_checkpoints', 'PDU_reader.py', 'IASI_L1C_reader.py', 'sample_data']\n"
          ]
        }
      ]
    },
    {
      "cell_type": "code",
      "source": [
        "# 3. Importar módulos necesarios que se usan en los scripts .py\n",
        "import importlib.util\n",
        "\n",
        "#%pip install numpy==1.26.4\n",
        "\n",
        "def import_module_from_file(module_name, filepath):\n",
        "    spec = importlib.util.spec_from_file_location(module_name, filepath)\n",
        "    module = importlib.util.module_from_spec(spec)\n",
        "    spec.loader.exec_module(module)\n",
        "    return module\n",
        "\n",
        "IASI_APPR_function = import_module_from_file(\"IASI_APPR_function\", \"IASI_APPR_function.py\")\n",
        "IASI_L1C_reader = import_module_from_file(\"IASI_L1C_reader\", \"IASI_L1C_reader.py\")\n",
        "PDU_reader = import_module_from_file(\"PDU_reader\", \"PDU_reader.py\")\n"
      ],
      "metadata": {
        "id": "xP8pBFilNKOn",
        "colab": {
          "base_uri": "https://localhost:8080/"
        },
        "collapsed": true,
        "outputId": "c264364e-0f0f-4f3c-b86a-69c620c42e29"
      },
      "execution_count": null,
      "outputs": [
        {
          "output_type": "stream",
          "name": "stdout",
          "text": [
            "Requirement already satisfied: numpy==1.26.4 in /usr/local/lib/python3.11/dist-packages (1.26.4)\n"
          ]
        }
      ]
    },
    {
      "cell_type": "code",
      "source": [
        "# 4. Lectura del archivo de IASI\n",
        "path_IASI = \"./\"\n",
        "filename = \"IASI_file.nat\"  # Reemplazar por nombre real del archivo subido\n",
        "niasi = 1\n",
        "\n",
        "# Ejecutar lectura\n",
        "producto = IASI_APPR_function.IASI_Main_Reader(path_IASI, niasi, Fname=filename)\n",
        "print(\"Lectura completa:\", type(producto))\n",
        "\n",
        "# Ver las variables que contiene\n",
        "print(dir(producto))"
      ],
      "metadata": {
        "colab": {
          "base_uri": "https://localhost:8080/"
        },
        "id": "vTNcaRMzkWLi",
        "outputId": "df63bd79-5e03-472a-b9ad-8acea77f21f5"
      },
      "execution_count": null,
      "outputs": [
        {
          "output_type": "stream",
          "name": "stdout",
          "text": [
            "END of Reading all variables for one PDU of IASI\n",
            "Lectura completa: <class 'PDU_reader.IASI_Reader.<locals>.Product'>\n",
            "['Count', 'DEGRADED_INST_MDR', 'DEGRADED_PROC_MDR', 'EARTH_SATELLITE_DISTANCE', 'GCcsImageClassified', 'GCcsImageClassifiedFirstCol', 'GCcsImageClassifiedFirstLin', 'GCcsImageClassifiedNbCol', 'GCcsImageClassifiedNbLin', 'GCcsRadAnalMean', 'GCcsRadAnalNbClass', 'GCcsRadAnalStd', 'GCcsRadAnalType', 'GCcsRadAnalWgt', 'GCcsRadAnalY', 'GCcsRadAnalZ', 'GEPSDatIasi', 'GEPSIasiMode', 'GEPSIdConf', 'GEPSLocIasiAvhrr_IASI', 'GEPSLocIasiAvhrr_IIS', 'GEPSOPSProcessingMode', 'GEPS_CCD', 'GEPS_SP', 'GEUMAvhrr1BCldFrac', 'GEUMAvhrr1BLandFrac', 'GEUMAvhrr1BQual', 'GGeoIISAnglesMETOP', 'GGeoIISAnglesSUN', 'GGeoIISLoc', 'GGeoSondAnglesMETOP', 'GGeoSondAnglesSUN', 'GGeoSondLoc', 'GIacAvgImagIIS', 'GIacVarImagIIS', 'GIrcImage', 'GIsfColOrigin', 'GIsfLinOrigin', 'GIsfPds1', 'GIsfPds2', 'GIsfPds3', 'GIsfPds4', 'GQisFlagQual', 'GQisFlagQualDetailed', 'GQisQualIndex', 'GQisQualIndexIIS', 'GQisQualIndexLoc', 'GQisQualIndexRad', 'GQisQualIndexSpect', 'GQisSysTecIISQual', 'GQisSysTecSondQual', 'GS1cSpect', 'IDefCcsChannelId', 'IDefCcsMode', 'IDefCovarMatEigenVal1c', 'IDefNsfirst1b', 'IDefNslast1b', 'IDefSpectDWn1b', 'OBT', 'OnBoardUTC', 'RECORD_HEADER', '__class__', '__delattr__', '__dict__', '__dir__', '__doc__', '__eq__', '__format__', '__ge__', '__getattribute__', '__getstate__', '__gt__', '__hash__', '__init__', '__init_subclass__', '__le__', '__lt__', '__module__', '__ne__', '__new__', '__reduce__', '__reduce_ex__', '__repr__', '__setattr__', '__sizeof__', '__str__', '__subclasshook__', '__weakref__', 'displayLine', 'name']\n"
          ]
        }
      ]
    },
    {
      "cell_type": "code",
      "source": [
        "# 5. Ejecucion de First_Reader_Marta.py\n",
        "%matplotlib inline\n",
        "!python3 Reader_example_joselu.py"
      ],
      "metadata": {
        "id": "jpM6JkC6VckH",
        "colab": {
          "base_uri": "https://localhost:8080/"
        },
        "outputId": "4660015e-7934-4066-f3c7-153614976755"
      },
      "execution_count": null,
      "outputs": [
        {
          "output_type": "stream",
          "name": "stdout",
          "text": [
            "END of Reading all variables for one PDU of IASI\n",
            "^C\n"
          ]
        }
      ]
    }
  ]
}